{
  "nbformat": 4,
  "nbformat_minor": 0,
  "metadata": {
    "colab": {
      "provenance": []
    },
    "kernelspec": {
      "name": "python3",
      "display_name": "Python 3"
    },
    "language_info": {
      "name": "python"
    },
    "accelerator": "GPU",
    "gpuClass": "standard"
  },
  "cells": [
    {
      "cell_type": "code",
      "execution_count": 7,
      "metadata": {
        "colab": {
          "base_uri": "https://localhost:8080/"
        },
        "id": "dwVjXigqZLhT",
        "outputId": "e9015889-4b15-4387-e620-2b6c47ea982e"
      },
      "outputs": [
        {
          "output_type": "stream",
          "name": "stdout",
          "text": [
            "Looking in indexes: https://pypi.org/simple, https://us-python.pkg.dev/colab-wheels/public/simple/\n",
            "Requirement already satisfied: torchattacks in /usr/local/lib/python3.8/dist-packages (3.3.0)\n"
          ]
        }
      ],
      "source": [
        "import numpy as np\n",
        "import matplotlib.pyplot as plt\n",
        "from tqdm import tqdm # Displays a progress bar\n",
        "\n",
        "import torch\n",
        "from torch import nn\n",
        "from torch import optim\n",
        "import torch.nn.functional as F\n",
        "from torchvision import datasets, transforms\n",
        "from torch.utils.data import Dataset, Subset, DataLoader, random_split\n",
        "!pip install torchattacks\n",
        "import torchattacks"
      ]
    },
    {
      "cell_type": "code",
      "source": [
        "# Load the dataset and train, val, test splits\n",
        "print(\"Loading datasets...\")\n",
        "my_transformer = transforms.Compose([\n",
        "    transforms.ToTensor(),\n",
        "])\n",
        "MNIST_train = datasets.MNIST('.', download=True, train=True, transform=my_transformer)\n",
        "MNIST_test = datasets.MNIST('.', download=True, train=False, transform=my_transformer)\n"
      ],
      "metadata": {
        "colab": {
          "base_uri": "https://localhost:8080/"
        },
        "id": "W1CiaManZO1C",
        "outputId": "f44f0b15-611b-4aa7-d279-953c7568e15c"
      },
      "execution_count": 8,
      "outputs": [
        {
          "output_type": "stream",
          "name": "stdout",
          "text": [
            "Loading datasets...\n"
          ]
        }
      ]
    },
    {
      "cell_type": "code",
      "source": [
        "BATCH_SIZE = 100\n",
        "trainloader = DataLoader(MNIST_train, batch_size=BATCH_SIZE, shuffle=True)\n",
        "testloader = DataLoader(MNIST_test, batch_size=BATCH_SIZE)"
      ],
      "metadata": {
        "id": "ACR9XM5yZQJr"
      },
      "execution_count": 9,
      "outputs": []
    },
    {
      "cell_type": "code",
      "source": [
        "class Network(nn.Module):\n",
        "    def __init__(self):\n",
        "        super(Network, self).__init__()\n",
        "        self.conv1 = nn.Sequential(         \n",
        "            nn.Conv2d(in_channels=1, out_channels=16, kernel_size=5),                                            \n",
        "            nn.MaxPool2d(kernel_size=2),   \n",
        "            nn.ReLU(),         \n",
        "        )\n",
        "        self.conv2 = nn.Sequential(         \n",
        "            nn.Conv2d(in_channels=16, out_channels=32, kernel_size=5, stride=1, padding=2),                        \n",
        "            nn.MaxPool2d(2),   \n",
        "            nn.ReLU(),                \n",
        "        )\n",
        "        self.out = nn.Linear(1152, 10)\n",
        "\n",
        "    def forward(self, x):\n",
        "        x = self.conv1(x)\n",
        "        x = self.conv2(x)\n",
        "        x = x.view(x.size(0), -1)       \n",
        "        output = self.out(x)\n",
        "        return output"
      ],
      "metadata": {
        "id": "3KuxUiUjZRgj"
      },
      "execution_count": 10,
      "outputs": []
    },
    {
      "cell_type": "code",
      "source": [
        "device = \"cuda\" if torch.cuda.is_available() else \"cpu\" # Configure device\n",
        "model = Network()\n",
        "model.load_state_dict(torch.load('/content/drive/MyDrive/Colab Notebooks/bestModel_PGDl2_2iters.pt'))\n"
      ],
      "metadata": {
        "colab": {
          "base_uri": "https://localhost:8080/"
        },
        "id": "NHgiOwtvZTx_",
        "outputId": "e095e426-33ad-46b1-c379-74451c4428a1"
      },
      "execution_count": 11,
      "outputs": [
        {
          "output_type": "execute_result",
          "data": {
            "text/plain": [
              "<All keys matched successfully>"
            ]
          },
          "metadata": {},
          "execution_count": 11
        }
      ]
    },
    {
      "cell_type": "code",
      "source": [
        "# CW attack on l2 model \n",
        "\n",
        "attack = torchattacks.CW(model, c=2.5, kappa=0, steps=50, lr=0.05)\n",
        "num_samples = 0\n",
        "correct_prediction = 0\n",
        "\n",
        "for image, target_label in tqdm(testloader):\n",
        "  adv_images = attack(image, target_label)\n",
        "  # print(type(image))\n",
        "  # print(type(adv_images))\n",
        "  #maybe introduce training here\n",
        "  output = model(adv_images)\n",
        "  finalPred = torch.argmax(output,dim=1)\n",
        "  #check how many samples were predicted right\n",
        "  correct_prediction += (finalPred.cuda() == target_label.cuda()).sum().item()\n",
        "  num_samples += BATCH_SIZE \n",
        "  # adv_images=adv_images.to(device)\n",
        "  # target_label=target_label.to(device)\n",
        "  #train_step(attackedModel, adv_images, target_label)\n",
        "  # perturbations.append(adv_images)\n",
        "  # labels.append(target_label)\n",
        "\n",
        "print(\"Number of Correct Predictions: \" + str(correct_prediction))\n",
        "print(\"Total Number of Samples: \" + str(num_samples))\n",
        "print()\n",
        "accuracy = float(correct_prediction) / num_samples\n",
        "print('Model Robust Accuracy: {:.3f}％'.format(accuracy * 100))\n",
        "print('Successful Attack Accuracy: {:.3f}％'.format(100 - (accuracy * 100)))"
      ],
      "metadata": {
        "colab": {
          "base_uri": "https://localhost:8080/"
        },
        "id": "N0hRGvc4ZVSe",
        "outputId": "eeeb8d3b-ac76-4850-aa14-b80674645685"
      },
      "execution_count": 12,
      "outputs": [
        {
          "output_type": "stream",
          "name": "stderr",
          "text": [
            "100%|██████████| 100/100 [04:00<00:00,  2.41s/it]"
          ]
        },
        {
          "output_type": "stream",
          "name": "stdout",
          "text": [
            "Number of Correct Predictions: 6991\n",
            "Total Number of Samples: 10000\n",
            "\n",
            "Model Robust Accuracy: 69.910％\n",
            "Successful Attack Accuracy: 30.090％\n"
          ]
        },
        {
          "output_type": "stream",
          "name": "stderr",
          "text": [
            "\n"
          ]
        }
      ]
    }
  ]
}